{
 "cells": [
  {
   "cell_type": "markdown",
   "metadata": {},
   "source": [
    "## 1- Importing Libaries"
   ]
  },
  {
   "cell_type": "code",
   "execution_count": 1,
   "metadata": {},
   "outputs": [],
   "source": [
    "import cv2"
   ]
  },
  {
   "cell_type": "markdown",
   "metadata": {},
   "source": [
    "## 2- Loading Video"
   ]
  },
  {
   "cell_type": "code",
   "execution_count": 2,
   "metadata": {},
   "outputs": [
    {
     "name": "stdout",
     "output_type": "stream",
     "text": [
      "Exiting ...\n"
     ]
    }
   ],
   "source": [
    "cap = cv2.VideoCapture(\"videos/race_car.mp4\")\n",
    "\n",
    "while True:\n",
    "    ret, frame = cap.read()\n",
    "    \n",
    "    # if frame is read correctly ret is True\n",
    "    if not ret:\n",
    "        print(\"Exiting ...\")\n",
    "        break\n",
    "    cv2.imshow('video', frame)\n",
    "    if cv2.waitKey(1) & 0xFF == 27:\n",
    "        break\n",
    "        \n",
    "cap.release()\n",
    "cv2.destroyAllWindows()      "
   ]
  },
  {
   "cell_type": "markdown",
   "metadata": {},
   "source": [
    "## 3- Grayscle"
   ]
  },
  {
   "cell_type": "code",
   "execution_count": 3,
   "metadata": {},
   "outputs": [],
   "source": [
    "import cv2\n",
    "\n",
    "cap = cv2.VideoCapture(\"videos/race_car.mp4\")\n",
    "\n",
    "while True:\n",
    "    ret, frame = cap.read()\n",
    "    # if frame is read correctly ret is True\n",
    "    if not ret:\n",
    "        print(\"Exiting ...\")\n",
    "        break\n",
    "    gray = cv2.cvtColor(frame, cv2.COLOR_BGR2GRAY)\n",
    "    cv2.imshow('Gray video', gray)\n",
    "    if cv2.waitKey(1) & 0xFF == 27:\n",
    "        break\n",
    "        \n",
    "cap.release()\n",
    "cv2.destroyAllWindows()      "
   ]
  },
  {
   "cell_type": "markdown",
   "metadata": {},
   "source": [
    "## 4- Get Infos"
   ]
  },
  {
   "cell_type": "code",
   "execution_count": 4,
   "metadata": {},
   "outputs": [
    {
     "name": "stdout",
     "output_type": "stream",
     "text": [
      "0.0\n",
      "0.0\n",
      "0.0016666666666666668\n",
      "1728.0\n",
      "1080.0\n",
      "30.0\n",
      "875967080.0\n",
      "210.0\n",
      "0.0\n",
      "0.0\n",
      "0.0\n",
      "0.0\n",
      "0.0\n",
      "0.0\n",
      "0.0\n",
      "0.0\n",
      "1.0\n",
      "0.0\n"
     ]
    }
   ],
   "source": [
    "cap = cv2.VideoCapture('./videos/race_car.mp4')\n",
    "\n",
    "for i in range(0,18):\n",
    "    print(cap.get(i))"
   ]
  },
  {
   "cell_type": "code",
   "execution_count": 5,
   "metadata": {},
   "outputs": [
    {
     "name": "stdout",
     "output_type": "stream",
     "text": [
      "width: 1728.0\n",
      "height: 1080.0\n",
      "FPS: 30.0\n"
     ]
    }
   ],
   "source": [
    "print(\"width:\", cap.get(cv2.CAP_PROP_FRAME_WIDTH))\n",
    "print(\"height:\", cap.get(cv2.CAP_PROP_FRAME_HEIGHT))\n",
    "print(\"FPS:\", cap.get(cv2.CAP_PROP_FPS))"
   ]
  },
  {
   "cell_type": "code",
   "execution_count": null,
   "metadata": {},
   "outputs": [],
   "source": [
    "cv2.CAP_PROP_POS_MSEC = 0\n",
    "cv2.CAP_PROP_POS_FRAMES = 1\n",
    "cv2.CAP_PROP_POS_AVI_RATIO = 2\n",
    "cv2.CAP_PROP_FRAME_WIDTH = 3\n",
    "cv2.CAP_PROP_FRAME_HEIGHT = 4\n",
    "cv2.CAP_PROP_FPS = 5\n",
    "cv2.CAP_PROP_FOURCC = 6\n",
    "cv2.CAP_PROP_FRAME_COUNT = 7\n",
    "cv2.CAP_PROP_FORMAT = 8\n",
    "cv2.CAP_PROP_MODE = 9\n",
    "cv2.CAP_PROP_BRIGHTNESS = 10\n",
    "cv2.CAP_PROP_CONTRAST = 11\n",
    "cv2.CAP_PROP_SATURATION = 12\n",
    "cv2.CAP_PROP_HUE = 13\n",
    "cv2.CAP_PROP_GAIN = 14\n",
    "cv2.CAP_PROP_EXPOSURE = 15\n",
    "cv2.CAP_PROP_CONVERT_RGB = 16\n",
    "cv2.CAP_PROP_WHITE_BALANCE_BLUE_U = 17\n",
    "cv2.CAP_PROP_RECTIFICATION = 18\n",
    "cv2.CAP_PROP_MONOCHROME = 19\n",
    "cv2.CAP_PROP_SHARPNESS = 20\n",
    "cv2.CAP_PROP_AUTO_EXPOSURE = 21\n",
    "cv2.CAP_PROP_GAMMA = 22\n",
    "cv2.CAP_PROP_TEMPERATURE = 23\n",
    "cv2.CAP_PROP_TRIGGER = 24\n",
    "cv2.CAP_PROP_TRIGGER_DELAY = 25\n",
    "cv2.CAP_PROP_WHITE_BALANCE_RED_V = 26\n",
    "cv2.CAP_PROP_ZOOM = 27\n",
    "cv2.CAP_PROP_FOCUS = 28\n",
    "cv2.CAP_PROP_GUID = 29\n",
    "cv2.CAP_PROP_ISO_SPEED = 30\n",
    "cv2.CAP_PROP_BACKLIGHT = 32\n",
    "cv2.CAP_PROP_PAN = 33\n",
    "cv2.CAP_PROP_TILT = 34\n",
    "cv2.CAP_PROP_ROLL = 35\n",
    "cv2.CAP_PROP_IRIS = 36\n",
    "cv2.CAP_PROP_SETTINGS = 37\n",
    "cv2.CAP_PROP_BUFFERSIZE = 38\n",
    "cv2.CAP_PROP_AUTOFOCUS = 39\n",
    "cv2.CAP_PROP_SAR_NUM = 40\n",
    "cv2.CAP_PROP_SAR_DEN = 41\n",
    "cv2.CAP_PROP_BACKEND = 42\n",
    "cv2.CAP_PROP_CHANNEL = 43\n",
    "cv2.CAP_PROP_AUTO_WB = 44\n",
    "cv2.CAP_PROP_WB_TEMPERATURE = 45\n",
    "cv2.CAP_PROP_CODEC_PIXEL_FORMAT = 46\n",
    "cv2.CAP_PROP_BITRATE = 47\n",
    "cv2.CAP_PROP_ORIENTATION_META = 48\n",
    "cv2.CAP_PROP_ORIENTATION_AUTO = 49 "
   ]
  }
 ],
 "metadata": {
  "kernelspec": {
   "display_name": "myvenv",
   "language": "python",
   "name": "python3"
  },
  "language_info": {
   "codemirror_mode": {
    "name": "ipython",
    "version": 3
   },
   "file_extension": ".py",
   "mimetype": "text/x-python",
   "name": "python",
   "nbconvert_exporter": "python",
   "pygments_lexer": "ipython3",
   "version": "3.12.1"
  }
 },
 "nbformat": 4,
 "nbformat_minor": 2
}
