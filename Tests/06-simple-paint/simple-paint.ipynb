{
 "cells": [
  {
   "cell_type": "markdown",
   "metadata": {},
   "source": [
    "## 1- Importing Libraries"
   ]
  },
  {
   "cell_type": "code",
   "execution_count": 6,
   "metadata": {},
   "outputs": [],
   "source": [
    "import cv2 as cv\n",
    "import numpy as np\n",
    "import matplotlib.pyplot as plt"
   ]
  },
  {
   "cell_type": "markdown",
   "metadata": {},
   "source": [
    "## 2- Creating White Space"
   ]
  },
  {
   "cell_type": "code",
   "execution_count": 7,
   "metadata": {},
   "outputs": [],
   "source": [
    "width, height = 800, 600\n",
    "image = np.ones((height, width, 3), np.uint8) * 255\n",
    "\n",
    "drawing = False  \n",
    "ix, iy = -1, -1  \n",
    "color = (0, 0, 0)  \n",
    "brush_size = 5"
   ]
  },
  {
   "cell_type": "markdown",
   "metadata": {},
   "source": [
    "## 3- Mouse Event"
   ]
  },
  {
   "cell_type": "code",
   "execution_count": 8,
   "metadata": {},
   "outputs": [],
   "source": [
    "def draw_line(event, x, y, flags, param):\n",
    "    global ix, iy, drawing, color, brush_size\n",
    "\n",
    "    if event == cv.EVENT_LBUTTONDOWN:\n",
    "        drawing = True\n",
    "        ix, iy = x, y\n",
    "\n",
    "    elif event == cv.EVENT_MOUSEMOVE:\n",
    "        if drawing:\n",
    "            cv.line(image, (ix, iy), (x, y), color, brush_size)\n",
    "            ix, iy = x, y\n",
    "\n",
    "    elif event == cv.EVENT_LBUTTONUP:\n",
    "        drawing = False\n",
    "        cv.line(image, (ix, iy), (x, y), color, brush_size)"
   ]
  },
  {
   "cell_type": "markdown",
   "metadata": {},
   "source": [
    "## 4- Adding Tracker"
   ]
  },
  {
   "cell_type": "code",
   "execution_count": 9,
   "metadata": {},
   "outputs": [],
   "source": [
    "import cv2 as cv\n",
    "\n",
    "def update_b(val):\n",
    "    global color\n",
    "    color = (cv.getTrackbarPos('B', 'Paint'), color[1], color[2])\n",
    "\n",
    "def update_g(val):\n",
    "    global color\n",
    "    color = (color[0], cv.getTrackbarPos('G', 'Paint'), color[2])\n",
    "\n",
    "def update_r(val):\n",
    "    global color\n",
    "    color = (color[0], color[1], cv.getTrackbarPos('R', 'Paint'))\n",
    "\n",
    "def update_brush_size(val):\n",
    "    global brush_size\n",
    "    brush_size = cv.getTrackbarPos('Brush Size', 'Paint')\n",
    "\n",
    "cv.namedWindow('Paint')\n",
    "\n",
    "cv.createTrackbar('B', 'Paint', 0, 255, update_b)\n",
    "cv.createTrackbar('G', 'Paint', 0, 255, update_g)\n",
    "cv.createTrackbar('R', 'Paint', 0, 255, update_r)\n",
    "cv.createTrackbar('Brush Size', 'Paint', 5, 50, update_brush_size)\n",
    "\n",
    "cv.setMouseCallback('Paint', draw_line)\n",
    "\n",
    "while True:\n",
    "    cv.imshow('Paint', image)\n",
    "    if cv.waitKey(1) & 0xFF == 27:\n",
    "        break\n",
    "\n",
    "cv.destroyAllWindows()"
   ]
  }
 ],
 "metadata": {
  "kernelspec": {
   "display_name": "myvenv",
   "language": "python",
   "name": "python3"
  },
  "language_info": {
   "codemirror_mode": {
    "name": "ipython",
    "version": 3
   },
   "file_extension": ".py",
   "mimetype": "text/x-python",
   "name": "python",
   "nbconvert_exporter": "python",
   "pygments_lexer": "ipython3",
   "version": "3.12.1"
  }
 },
 "nbformat": 4,
 "nbformat_minor": 2
}
